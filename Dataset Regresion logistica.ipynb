{
 "cells": [
  {
   "cell_type": "markdown",
   "id": "585f1730-3ea4-4271-975e-5a1950ef9ba3",
   "metadata": {},
   "source": [
    "<h1>Dataset Regresion logistica</h1>"
   ]
  },
  {
   "cell_type": "markdown",
   "id": "53f167a9-6890-4097-b4a5-e7f22672e6a1",
   "metadata": {},
   "source": [
    "## 1. análisis exploratorio de los datos para identificar relaciones entre variables, valores atípicos, tendencias, etc."
   ]
  },
  {
   "cell_type": "code",
   "execution_count": 66,
   "id": "a1593306-6eb1-4251-9c81-081d79c78511",
   "metadata": {},
   "outputs": [],
   "source": [
    "\n",
    "import pandas as pd \n",
    "import numpy as np \n",
    "import seaborn as sns \n",
    "import matplotlib.pyplot as plt \n",
    "\n",
    "from sklearn import metrics\n",
    "from sklearn.model_selection import train_test_split\n",
    "from sklearn.linear_model import LogisticRegression\n",
    "from sklearn.metrics import classification_report, confusion_matrix\n",
    "\n"
   ]
  },
  {
   "cell_type": "code",
   "execution_count": 67,
   "id": "f3962b87-10dd-43e4-92f5-be80aa2f66b4",
   "metadata": {},
   "outputs": [],
   "source": [
    "#Cargamos dataset\n",
    "\n",
    "df = pd.read_csv(\"heart_cleveland_upload.csv\")"
   ]
  },
  {
   "cell_type": "code",
   "execution_count": 68,
   "id": "417586f1-3f2c-41ff-b924-f092a415f940",
   "metadata": {},
   "outputs": [
    {
     "data": {
      "text/html": [
       "<div>\n",
       "<style scoped>\n",
       "    .dataframe tbody tr th:only-of-type {\n",
       "        vertical-align: middle;\n",
       "    }\n",
       "\n",
       "    .dataframe tbody tr th {\n",
       "        vertical-align: top;\n",
       "    }\n",
       "\n",
       "    .dataframe thead th {\n",
       "        text-align: right;\n",
       "    }\n",
       "</style>\n",
       "<table border=\"1\" class=\"dataframe\">\n",
       "  <thead>\n",
       "    <tr style=\"text-align: right;\">\n",
       "      <th></th>\n",
       "      <th>age</th>\n",
       "      <th>sex</th>\n",
       "      <th>cp</th>\n",
       "      <th>trestbps</th>\n",
       "      <th>chol</th>\n",
       "      <th>fbs</th>\n",
       "      <th>restecg</th>\n",
       "      <th>thalach</th>\n",
       "      <th>exang</th>\n",
       "      <th>oldpeak</th>\n",
       "      <th>slope</th>\n",
       "      <th>ca</th>\n",
       "      <th>thal</th>\n",
       "      <th>condition</th>\n",
       "    </tr>\n",
       "  </thead>\n",
       "  <tbody>\n",
       "    <tr>\n",
       "      <th>0</th>\n",
       "      <td>69</td>\n",
       "      <td>1</td>\n",
       "      <td>0</td>\n",
       "      <td>160</td>\n",
       "      <td>234</td>\n",
       "      <td>1</td>\n",
       "      <td>2</td>\n",
       "      <td>131</td>\n",
       "      <td>0</td>\n",
       "      <td>0.1</td>\n",
       "      <td>1</td>\n",
       "      <td>1</td>\n",
       "      <td>0</td>\n",
       "      <td>0</td>\n",
       "    </tr>\n",
       "    <tr>\n",
       "      <th>1</th>\n",
       "      <td>69</td>\n",
       "      <td>0</td>\n",
       "      <td>0</td>\n",
       "      <td>140</td>\n",
       "      <td>239</td>\n",
       "      <td>0</td>\n",
       "      <td>0</td>\n",
       "      <td>151</td>\n",
       "      <td>0</td>\n",
       "      <td>1.8</td>\n",
       "      <td>0</td>\n",
       "      <td>2</td>\n",
       "      <td>0</td>\n",
       "      <td>0</td>\n",
       "    </tr>\n",
       "    <tr>\n",
       "      <th>2</th>\n",
       "      <td>66</td>\n",
       "      <td>0</td>\n",
       "      <td>0</td>\n",
       "      <td>150</td>\n",
       "      <td>226</td>\n",
       "      <td>0</td>\n",
       "      <td>0</td>\n",
       "      <td>114</td>\n",
       "      <td>0</td>\n",
       "      <td>2.6</td>\n",
       "      <td>2</td>\n",
       "      <td>0</td>\n",
       "      <td>0</td>\n",
       "      <td>0</td>\n",
       "    </tr>\n",
       "    <tr>\n",
       "      <th>3</th>\n",
       "      <td>65</td>\n",
       "      <td>1</td>\n",
       "      <td>0</td>\n",
       "      <td>138</td>\n",
       "      <td>282</td>\n",
       "      <td>1</td>\n",
       "      <td>2</td>\n",
       "      <td>174</td>\n",
       "      <td>0</td>\n",
       "      <td>1.4</td>\n",
       "      <td>1</td>\n",
       "      <td>1</td>\n",
       "      <td>0</td>\n",
       "      <td>1</td>\n",
       "    </tr>\n",
       "    <tr>\n",
       "      <th>4</th>\n",
       "      <td>64</td>\n",
       "      <td>1</td>\n",
       "      <td>0</td>\n",
       "      <td>110</td>\n",
       "      <td>211</td>\n",
       "      <td>0</td>\n",
       "      <td>2</td>\n",
       "      <td>144</td>\n",
       "      <td>1</td>\n",
       "      <td>1.8</td>\n",
       "      <td>1</td>\n",
       "      <td>0</td>\n",
       "      <td>0</td>\n",
       "      <td>0</td>\n",
       "    </tr>\n",
       "    <tr>\n",
       "      <th>5</th>\n",
       "      <td>64</td>\n",
       "      <td>1</td>\n",
       "      <td>0</td>\n",
       "      <td>170</td>\n",
       "      <td>227</td>\n",
       "      <td>0</td>\n",
       "      <td>2</td>\n",
       "      <td>155</td>\n",
       "      <td>0</td>\n",
       "      <td>0.6</td>\n",
       "      <td>1</td>\n",
       "      <td>0</td>\n",
       "      <td>2</td>\n",
       "      <td>0</td>\n",
       "    </tr>\n",
       "    <tr>\n",
       "      <th>6</th>\n",
       "      <td>63</td>\n",
       "      <td>1</td>\n",
       "      <td>0</td>\n",
       "      <td>145</td>\n",
       "      <td>233</td>\n",
       "      <td>1</td>\n",
       "      <td>2</td>\n",
       "      <td>150</td>\n",
       "      <td>0</td>\n",
       "      <td>2.3</td>\n",
       "      <td>2</td>\n",
       "      <td>0</td>\n",
       "      <td>1</td>\n",
       "      <td>0</td>\n",
       "    </tr>\n",
       "    <tr>\n",
       "      <th>7</th>\n",
       "      <td>61</td>\n",
       "      <td>1</td>\n",
       "      <td>0</td>\n",
       "      <td>134</td>\n",
       "      <td>234</td>\n",
       "      <td>0</td>\n",
       "      <td>0</td>\n",
       "      <td>145</td>\n",
       "      <td>0</td>\n",
       "      <td>2.6</td>\n",
       "      <td>1</td>\n",
       "      <td>2</td>\n",
       "      <td>0</td>\n",
       "      <td>1</td>\n",
       "    </tr>\n",
       "    <tr>\n",
       "      <th>8</th>\n",
       "      <td>60</td>\n",
       "      <td>0</td>\n",
       "      <td>0</td>\n",
       "      <td>150</td>\n",
       "      <td>240</td>\n",
       "      <td>0</td>\n",
       "      <td>0</td>\n",
       "      <td>171</td>\n",
       "      <td>0</td>\n",
       "      <td>0.9</td>\n",
       "      <td>0</td>\n",
       "      <td>0</td>\n",
       "      <td>0</td>\n",
       "      <td>0</td>\n",
       "    </tr>\n",
       "    <tr>\n",
       "      <th>9</th>\n",
       "      <td>59</td>\n",
       "      <td>1</td>\n",
       "      <td>0</td>\n",
       "      <td>178</td>\n",
       "      <td>270</td>\n",
       "      <td>0</td>\n",
       "      <td>2</td>\n",
       "      <td>145</td>\n",
       "      <td>0</td>\n",
       "      <td>4.2</td>\n",
       "      <td>2</td>\n",
       "      <td>0</td>\n",
       "      <td>2</td>\n",
       "      <td>0</td>\n",
       "    </tr>\n",
       "  </tbody>\n",
       "</table>\n",
       "</div>"
      ],
      "text/plain": [
       "   age  sex  cp  trestbps  chol  fbs  restecg  thalach  exang  oldpeak  slope  \\\n",
       "0   69    1   0       160   234    1        2      131      0      0.1      1   \n",
       "1   69    0   0       140   239    0        0      151      0      1.8      0   \n",
       "2   66    0   0       150   226    0        0      114      0      2.6      2   \n",
       "3   65    1   0       138   282    1        2      174      0      1.4      1   \n",
       "4   64    1   0       110   211    0        2      144      1      1.8      1   \n",
       "5   64    1   0       170   227    0        2      155      0      0.6      1   \n",
       "6   63    1   0       145   233    1        2      150      0      2.3      2   \n",
       "7   61    1   0       134   234    0        0      145      0      2.6      1   \n",
       "8   60    0   0       150   240    0        0      171      0      0.9      0   \n",
       "9   59    1   0       178   270    0        2      145      0      4.2      2   \n",
       "\n",
       "   ca  thal  condition  \n",
       "0   1     0          0  \n",
       "1   2     0          0  \n",
       "2   0     0          0  \n",
       "3   1     0          1  \n",
       "4   0     0          0  \n",
       "5   0     2          0  \n",
       "6   0     1          0  \n",
       "7   2     0          1  \n",
       "8   0     0          0  \n",
       "9   0     2          0  "
      ]
     },
     "execution_count": 68,
     "metadata": {},
     "output_type": "execute_result"
    }
   ],
   "source": [
    "# Realizamos lectura de los Datos para el análisis exploratorio, con las primeras 10 columnas\n",
    "\n",
    "df.head(10)"
   ]
  },
  {
   "cell_type": "code",
   "execution_count": 69,
   "id": "4c6cb377-34e2-4ae9-b6d6-46360f678a2e",
   "metadata": {},
   "outputs": [
    {
     "data": {
      "text/html": [
       "<div>\n",
       "<style scoped>\n",
       "    .dataframe tbody tr th:only-of-type {\n",
       "        vertical-align: middle;\n",
       "    }\n",
       "\n",
       "    .dataframe tbody tr th {\n",
       "        vertical-align: top;\n",
       "    }\n",
       "\n",
       "    .dataframe thead th {\n",
       "        text-align: right;\n",
       "    }\n",
       "</style>\n",
       "<table border=\"1\" class=\"dataframe\">\n",
       "  <thead>\n",
       "    <tr style=\"text-align: right;\">\n",
       "      <th></th>\n",
       "      <th>age</th>\n",
       "      <th>sex</th>\n",
       "      <th>cp</th>\n",
       "      <th>trestbps</th>\n",
       "      <th>chol</th>\n",
       "      <th>fbs</th>\n",
       "      <th>restecg</th>\n",
       "      <th>thalach</th>\n",
       "      <th>exang</th>\n",
       "      <th>oldpeak</th>\n",
       "      <th>slope</th>\n",
       "      <th>ca</th>\n",
       "      <th>thal</th>\n",
       "      <th>condition</th>\n",
       "    </tr>\n",
       "  </thead>\n",
       "  <tbody>\n",
       "    <tr>\n",
       "      <th>count</th>\n",
       "      <td>297.000000</td>\n",
       "      <td>297.000000</td>\n",
       "      <td>297.000000</td>\n",
       "      <td>297.000000</td>\n",
       "      <td>297.000000</td>\n",
       "      <td>297.000000</td>\n",
       "      <td>297.000000</td>\n",
       "      <td>297.000000</td>\n",
       "      <td>297.000000</td>\n",
       "      <td>297.000000</td>\n",
       "      <td>297.000000</td>\n",
       "      <td>297.000000</td>\n",
       "      <td>297.000000</td>\n",
       "      <td>297.000000</td>\n",
       "    </tr>\n",
       "    <tr>\n",
       "      <th>mean</th>\n",
       "      <td>54.542088</td>\n",
       "      <td>0.676768</td>\n",
       "      <td>2.158249</td>\n",
       "      <td>131.693603</td>\n",
       "      <td>247.350168</td>\n",
       "      <td>0.144781</td>\n",
       "      <td>0.996633</td>\n",
       "      <td>149.599327</td>\n",
       "      <td>0.326599</td>\n",
       "      <td>1.055556</td>\n",
       "      <td>0.602694</td>\n",
       "      <td>0.676768</td>\n",
       "      <td>0.835017</td>\n",
       "      <td>0.461279</td>\n",
       "    </tr>\n",
       "    <tr>\n",
       "      <th>std</th>\n",
       "      <td>9.049736</td>\n",
       "      <td>0.468500</td>\n",
       "      <td>0.964859</td>\n",
       "      <td>17.762806</td>\n",
       "      <td>51.997583</td>\n",
       "      <td>0.352474</td>\n",
       "      <td>0.994914</td>\n",
       "      <td>22.941562</td>\n",
       "      <td>0.469761</td>\n",
       "      <td>1.166123</td>\n",
       "      <td>0.618187</td>\n",
       "      <td>0.938965</td>\n",
       "      <td>0.956690</td>\n",
       "      <td>0.499340</td>\n",
       "    </tr>\n",
       "    <tr>\n",
       "      <th>min</th>\n",
       "      <td>29.000000</td>\n",
       "      <td>0.000000</td>\n",
       "      <td>0.000000</td>\n",
       "      <td>94.000000</td>\n",
       "      <td>126.000000</td>\n",
       "      <td>0.000000</td>\n",
       "      <td>0.000000</td>\n",
       "      <td>71.000000</td>\n",
       "      <td>0.000000</td>\n",
       "      <td>0.000000</td>\n",
       "      <td>0.000000</td>\n",
       "      <td>0.000000</td>\n",
       "      <td>0.000000</td>\n",
       "      <td>0.000000</td>\n",
       "    </tr>\n",
       "    <tr>\n",
       "      <th>25%</th>\n",
       "      <td>48.000000</td>\n",
       "      <td>0.000000</td>\n",
       "      <td>2.000000</td>\n",
       "      <td>120.000000</td>\n",
       "      <td>211.000000</td>\n",
       "      <td>0.000000</td>\n",
       "      <td>0.000000</td>\n",
       "      <td>133.000000</td>\n",
       "      <td>0.000000</td>\n",
       "      <td>0.000000</td>\n",
       "      <td>0.000000</td>\n",
       "      <td>0.000000</td>\n",
       "      <td>0.000000</td>\n",
       "      <td>0.000000</td>\n",
       "    </tr>\n",
       "    <tr>\n",
       "      <th>50%</th>\n",
       "      <td>56.000000</td>\n",
       "      <td>1.000000</td>\n",
       "      <td>2.000000</td>\n",
       "      <td>130.000000</td>\n",
       "      <td>243.000000</td>\n",
       "      <td>0.000000</td>\n",
       "      <td>1.000000</td>\n",
       "      <td>153.000000</td>\n",
       "      <td>0.000000</td>\n",
       "      <td>0.800000</td>\n",
       "      <td>1.000000</td>\n",
       "      <td>0.000000</td>\n",
       "      <td>0.000000</td>\n",
       "      <td>0.000000</td>\n",
       "    </tr>\n",
       "    <tr>\n",
       "      <th>75%</th>\n",
       "      <td>61.000000</td>\n",
       "      <td>1.000000</td>\n",
       "      <td>3.000000</td>\n",
       "      <td>140.000000</td>\n",
       "      <td>276.000000</td>\n",
       "      <td>0.000000</td>\n",
       "      <td>2.000000</td>\n",
       "      <td>166.000000</td>\n",
       "      <td>1.000000</td>\n",
       "      <td>1.600000</td>\n",
       "      <td>1.000000</td>\n",
       "      <td>1.000000</td>\n",
       "      <td>2.000000</td>\n",
       "      <td>1.000000</td>\n",
       "    </tr>\n",
       "    <tr>\n",
       "      <th>max</th>\n",
       "      <td>77.000000</td>\n",
       "      <td>1.000000</td>\n",
       "      <td>3.000000</td>\n",
       "      <td>200.000000</td>\n",
       "      <td>564.000000</td>\n",
       "      <td>1.000000</td>\n",
       "      <td>2.000000</td>\n",
       "      <td>202.000000</td>\n",
       "      <td>1.000000</td>\n",
       "      <td>6.200000</td>\n",
       "      <td>2.000000</td>\n",
       "      <td>3.000000</td>\n",
       "      <td>2.000000</td>\n",
       "      <td>1.000000</td>\n",
       "    </tr>\n",
       "  </tbody>\n",
       "</table>\n",
       "</div>"
      ],
      "text/plain": [
       "              age         sex          cp    trestbps        chol         fbs  \\\n",
       "count  297.000000  297.000000  297.000000  297.000000  297.000000  297.000000   \n",
       "mean    54.542088    0.676768    2.158249  131.693603  247.350168    0.144781   \n",
       "std      9.049736    0.468500    0.964859   17.762806   51.997583    0.352474   \n",
       "min     29.000000    0.000000    0.000000   94.000000  126.000000    0.000000   \n",
       "25%     48.000000    0.000000    2.000000  120.000000  211.000000    0.000000   \n",
       "50%     56.000000    1.000000    2.000000  130.000000  243.000000    0.000000   \n",
       "75%     61.000000    1.000000    3.000000  140.000000  276.000000    0.000000   \n",
       "max     77.000000    1.000000    3.000000  200.000000  564.000000    1.000000   \n",
       "\n",
       "          restecg     thalach       exang     oldpeak       slope          ca  \\\n",
       "count  297.000000  297.000000  297.000000  297.000000  297.000000  297.000000   \n",
       "mean     0.996633  149.599327    0.326599    1.055556    0.602694    0.676768   \n",
       "std      0.994914   22.941562    0.469761    1.166123    0.618187    0.938965   \n",
       "min      0.000000   71.000000    0.000000    0.000000    0.000000    0.000000   \n",
       "25%      0.000000  133.000000    0.000000    0.000000    0.000000    0.000000   \n",
       "50%      1.000000  153.000000    0.000000    0.800000    1.000000    0.000000   \n",
       "75%      2.000000  166.000000    1.000000    1.600000    1.000000    1.000000   \n",
       "max      2.000000  202.000000    1.000000    6.200000    2.000000    3.000000   \n",
       "\n",
       "             thal   condition  \n",
       "count  297.000000  297.000000  \n",
       "mean     0.835017    0.461279  \n",
       "std      0.956690    0.499340  \n",
       "min      0.000000    0.000000  \n",
       "25%      0.000000    0.000000  \n",
       "50%      0.000000    0.000000  \n",
       "75%      2.000000    1.000000  \n",
       "max      2.000000    1.000000  "
      ]
     },
     "execution_count": 69,
     "metadata": {},
     "output_type": "execute_result"
    }
   ],
   "source": [
    "# Descripción de los datos\n",
    "df.describe()"
   ]
  },
  {
   "cell_type": "code",
   "execution_count": 102,
   "id": "200b1ab8-2549-4ec5-a130-522af45357bc",
   "metadata": {},
   "outputs": [
    {
     "name": "stdout",
     "output_type": "stream",
     "text": [
      "<class 'pandas.core.frame.DataFrame'>\n",
      "Index: 274 entries, 0 to 296\n",
      "Data columns (total 14 columns):\n",
      " #   Column     Non-Null Count  Dtype  \n",
      "---  ------     --------------  -----  \n",
      " 0   age        274 non-null    int64  \n",
      " 1   sex        274 non-null    int64  \n",
      " 2   cp         274 non-null    int64  \n",
      " 3   trestbps   274 non-null    int64  \n",
      " 4   chol       274 non-null    int64  \n",
      " 5   fbs        274 non-null    int64  \n",
      " 6   restecg    274 non-null    int64  \n",
      " 7   thalach    274 non-null    int64  \n",
      " 8   exang      274 non-null    int64  \n",
      " 9   oldpeak    274 non-null    float64\n",
      " 10  slope      274 non-null    int64  \n",
      " 11  ca         274 non-null    int64  \n",
      " 12  thal       274 non-null    int64  \n",
      " 13  condition  274 non-null    int64  \n",
      "dtypes: float64(1), int64(13)\n",
      "memory usage: 32.1 KB\n"
     ]
    }
   ],
   "source": [
    "#identificamos datos nulos o faltantes\n",
    "df.info()"
   ]
  },
  {
   "cell_type": "code",
   "execution_count": 71,
   "id": "66e2eac2-46ae-4ffd-a658-8628c23ef974",
   "metadata": {},
   "outputs": [
    {
     "data": {
      "text/plain": [
       "age          0\n",
       "sex          0\n",
       "cp           0\n",
       "trestbps     0\n",
       "chol         0\n",
       "fbs          0\n",
       "restecg      0\n",
       "thalach      0\n",
       "exang        0\n",
       "oldpeak      0\n",
       "slope        0\n",
       "ca           0\n",
       "thal         0\n",
       "condition    0\n",
       "dtype: int64"
      ]
     },
     "execution_count": 71,
     "metadata": {},
     "output_type": "execute_result"
    }
   ],
   "source": [
    "df.isnull().sum()"
   ]
  },
  {
   "cell_type": "code",
   "execution_count": 72,
   "id": "d9243992-5516-4bce-a852-444b12f5a3f5",
   "metadata": {},
   "outputs": [
    {
     "data": {
      "image/png": "[encoded data removed]",
      "text/plain": [
       "<Figure size 1000x600 with 4 Axes>"
      ]
     },
     "metadata": {},
     "output_type": "display_data"
    }
   ],
   "source": [
    "#Identificación de Datos Atípicos mediante graficas\n",
    "\n",
    "numeric_features = ['age', 'trestbps', 'chol', 'thalach']\n",
    "\n",
    "plt.figure(figsize=(10, 6))\n",
    "\n",
    "for i, feature in enumerate(numeric_features, 1):\n",
    "    plt.subplot(2, 2, i)\n",
    "    sns.boxplot(x=feature, data=df)\n",
    "\n",
    "plt.tight_layout()\n",
    "plt.show()"
   ]
  },
  {
   "cell_type": "code",
   "execution_count": null,
   "id": "8e58cdf2-99e6-4b87-9a7a-77b7948e8e9d",
   "metadata": {},
   "outputs": [],
   "source": [
    "###Correlacion de datos"
   ]
  },
  {
   "cell_type": "code",
   "execution_count": 73,
   "id": "a115be20-24b8-40f3-bf6a-1cb3413a8a48",
   "metadata": {},
   "outputs": [
    {
     "name": "stdout",
     "output_type": "stream",
     "text": [
      "                age       sex        cp  trestbps      chol       fbs  \\\n",
      "age        1.000000 -0.092399  0.110471  0.290476  0.202644  0.132062   \n",
      "sex       -0.092399  1.000000  0.008908 -0.066340 -0.198089  0.038850   \n",
      "cp         0.110471  0.008908  1.000000 -0.036980  0.072088 -0.057663   \n",
      "trestbps   0.290476 -0.066340 -0.036980  1.000000  0.131536  0.180860   \n",
      "chol       0.202644 -0.198089  0.072088  0.131536  1.000000  0.012708   \n",
      "fbs        0.132062  0.038850 -0.057663  0.180860  0.012708  1.000000   \n",
      "restecg    0.149917  0.033897  0.063905  0.149242  0.165046  0.068831   \n",
      "thalach   -0.394563 -0.060496 -0.339308 -0.049108 -0.000075 -0.007842   \n",
      "exang      0.096489  0.143581  0.377525  0.066691  0.059339 -0.000893   \n",
      "oldpeak    0.197123  0.106567  0.203244  0.191243  0.038596  0.008311   \n",
      "slope      0.159405  0.033345  0.151079  0.121172 -0.009215  0.047819   \n",
      "ca         0.362210  0.091925  0.235644  0.097954  0.115945  0.152086   \n",
      "thal       0.120795  0.370556  0.266275  0.130612  0.023441  0.051038   \n",
      "condition  0.227075  0.278467  0.408945  0.153490  0.080285  0.003167   \n",
      "\n",
      "            restecg   thalach     exang   oldpeak     slope        ca  \\\n",
      "age        0.149917 -0.394563  0.096489  0.197123  0.159405  0.362210   \n",
      "sex        0.033897 -0.060496  0.143581  0.106567  0.033345  0.091925   \n",
      "cp         0.063905 -0.339308  0.377525  0.203244  0.151079  0.235644   \n",
      "trestbps   0.149242 -0.049108  0.066691  0.191243  0.121172  0.097954   \n",
      "chol       0.165046 -0.000075  0.059339  0.038596 -0.009215  0.115945   \n",
      "fbs        0.068831 -0.007842 -0.000893  0.008311  0.047819  0.152086   \n",
      "restecg    1.000000 -0.072290  0.081874  0.113726  0.135141  0.129021   \n",
      "thalach   -0.072290  1.000000 -0.384368 -0.347640 -0.389307 -0.268727   \n",
      "exang      0.081874 -0.384368  1.000000  0.289310  0.250572  0.148232   \n",
      "oldpeak    0.113726 -0.347640  0.289310  1.000000  0.579037  0.294452   \n",
      "slope      0.135141 -0.389307  0.250572  0.579037  1.000000  0.109761   \n",
      "ca         0.129021 -0.268727  0.148232  0.294452  0.109761  1.000000   \n",
      "thal       0.013612 -0.258386  0.323268  0.336809  0.260096  0.248825   \n",
      "condition  0.166343 -0.423817  0.421355  0.424052  0.333049  0.463189   \n",
      "\n",
      "               thal  condition  \n",
      "age        0.120795   0.227075  \n",
      "sex        0.370556   0.278467  \n",
      "cp         0.266275   0.408945  \n",
      "trestbps   0.130612   0.153490  \n",
      "chol       0.023441   0.080285  \n",
      "fbs        0.051038   0.003167  \n",
      "restecg    0.013612   0.166343  \n",
      "thalach   -0.258386  -0.423817  \n",
      "exang      0.323268   0.421355  \n",
      "oldpeak    0.336809   0.424052  \n",
      "slope      0.260096   0.333049  \n",
      "ca         0.248825   0.463189  \n",
      "thal       1.000000   0.520516  \n",
      "condition  0.520516   1.000000  \n"
     ]
    }
   ],
   "source": [
    "correlation_matrix = df.corr()\n",
    "print(correlation_matrix)"
   ]
  },
  {
   "cell_type": "code",
   "execution_count": 74,
   "id": "54532d0c-0581-4a25-93c1-dfdd6c943475",
   "metadata": {},
   "outputs": [
    {
     "data": {
      "image/png": "[encoded data removed]",
      "text/plain": [
       "<Figure size 1000x600 with 4 Axes>"
      ]
     },
     "metadata": {},
     "output_type": "display_data"
    }
   ],
   "source": [
    "numeric_features = ['age', 'trestbps', 'chol', 'thalach']\n",
    "\n",
    "plt.figure(figsize=(10, 6))\n",
    "\n",
    "for i, feature in enumerate(numeric_features, 1):\n",
    "    plt.subplot(2, 2, i)\n",
    "    sns.boxplot(x='condition', y=feature, data=df)\n",
    "\n",
    "plt.tight_layout()\n",
    "plt.show()"
   ]
  },
  {
   "cell_type": "markdown",
   "id": "32200dec-75cb-4ae8-8933-c1a827abbcd9",
   "metadata": {},
   "source": [
    "## 2. Preprocesar los datos "
   ]
  },
  {
   "cell_type": "code",
   "execution_count": 75,
   "id": "3b029630-c42d-434f-a010-ae6d670ca9de",
   "metadata": {},
   "outputs": [
    {
     "data": {
      "image/png": "[encoded data removed]",
      "text/plain": [
       "<Figure size 1000x600 with 3 Axes>"
      ]
     },
     "metadata": {},
     "output_type": "display_data"
    }
   ],
   "source": [
    "#Identificación de Datos Atípicos\n",
    "\n",
    "numeric_features = ['trestbps', 'chol', 'thalach']\n",
    "\n",
    "plt.figure(figsize=(10, 6))\n",
    "\n",
    "for i, feature in enumerate(numeric_features, 1):\n",
    "    plt.subplot(2, 2, i)\n",
    "    sns.boxplot(x=feature, data=df)\n",
    "\n",
    "plt.tight_layout()\n",
    "plt.show()"
   ]
  },
  {
   "cell_type": "code",
   "execution_count": 80,
   "id": "b638eacf-2b7c-4e54-81e9-24a0175569af",
   "metadata": {},
   "outputs": [
    {
     "name": "stdout",
     "output_type": "stream",
     "text": [
      "El total de datos atípicos trestbps es 9\n",
      "El total de datos atípicos chol es 5\n",
      "El total de datos atípicos thalach es 3\n"
     ]
    }
   ],
   "source": [
    "#Conteo de Datos Atípicos \"trestbps\"\n",
    "nivel_min=90\n",
    "nivel_maximo=170\n",
    "Total_Atipicos=((df['trestbps']<nivel_minimo)|(df['trestbps']>nivel_maximo)).sum()\n",
    "print(\"El total de datos atípicos trestbps es {}\".format(Total_Atipicos))\n",
    "\n",
    "#Conteo de Datos Atípicos \"chol\"\n",
    "nivel_minimo=100\n",
    "nivel_maximo=360\n",
    "Total_Atipicos=((df['chol']<nivel_minimo)|(df['chol']>nivel_maximo)).sum()\n",
    "print(\"El total de datos atípicos chol es {}\".format(Total_Atipicos))\n",
    "\n",
    "#Conteo de Datos Atípicos \"thalach\"\n",
    "nivel_minimo=90\n",
    "nivel_maximo=200\n",
    "Total_Atipicos=((df['thalach']<nivel_minimo)|(df['thalach']>nivel_maximo)).sum()\n",
    "print(\"El total de datos atípicos thalach es {}\".format(Total_Atipicos))"
   ]
  },
  {
   "cell_type": "code",
   "execution_count": 81,
   "id": "0dc265a6-e4f5-4388-b60f-a9619eb0a9f8",
   "metadata": {},
   "outputs": [],
   "source": [
    "# Filtra Datos Atípicos\n",
    "\n",
    "df=df[(df['trestbps']<170)&(df['trestbps']>90)]\n",
    "\n",
    "df=df[(df['chol']<360)&(df['chol']>100)]\n",
    "\n",
    "df=df[(df['thalach']<200)&(df['thalach']>90)]\n"
   ]
  },
  {
   "cell_type": "code",
   "execution_count": 82,
   "id": "d9fcb1d7-b97f-42c4-99da-f09843fe90a6",
   "metadata": {},
   "outputs": [
    {
     "name": "stdout",
     "output_type": "stream",
     "text": [
      "El total de datos atípicos trestbps es 0\n",
      "El total de datos atípicos chol es 0\n",
      "El total de datos atípicos thalach es 0\n"
     ]
    }
   ],
   "source": [
    "# Validar si se removieron los datos atípicos\n",
    "\n",
    "nivel_min=90\n",
    "nivel_maximo=170\n",
    "Total_Atipicos=((df['trestbps']<nivel_minimo)|(df['trestbps']>nivel_maximo)).sum()\n",
    "print(\"El total de datos atípicos trestbps es {}\".format(Total_Atipicos))\n",
    "\n",
    "nivel_minimo=100\n",
    "nivel_maximo=360\n",
    "Total_Atipicos=((df['chol']<nivel_minimo)|(df['chol']>nivel_maximo)).sum()\n",
    "print(\"El total de datos atípicos chol es {}\".format(Total_Atipicos))\n",
    "\n",
    "nivel_minimo=90\n",
    "nivel_maximo=200\n",
    "Total_Atipicos=((df['thalach']<nivel_minimo)|(df['thalach']>nivel_maximo)).sum()\n",
    "print(\"El total de datos atípicos thalach es {}\".format(Total_Atipicos))"
   ]
  },
  {
   "cell_type": "code",
   "execution_count": 84,
   "id": "0f2b2b5b-b59f-4a32-9c50-2feb5445e0b6",
   "metadata": {},
   "outputs": [
    {
     "data": {
      "image/png": "[encoded data removed]",
      "text/plain": [
       "<Figure size 1000x600 with 3 Axes>"
      ]
     },
     "metadata": {},
     "output_type": "display_data"
    }
   ],
   "source": [
    "###Grafica para comprobar si se filtro correctamente\n",
    "numeric_features = ['trestbps', 'chol', 'thalach']\n",
    "\n",
    "plt.figure(figsize=(10, 6))\n",
    "\n",
    "for i, feature in enumerate(numeric_features, 1):\n",
    "    plt.subplot(2, 2, i)\n",
    "    sns.boxplot(x=feature, data=df)\n",
    "\n",
    "plt.tight_layout()\n",
    "plt.show()"
   ]
  },
  {
   "cell_type": "code",
   "execution_count": 83,
   "id": "cf83882c-2ae5-4ccf-ae70-e71eb53e1cd3",
   "metadata": {},
   "outputs": [
    {
     "name": "stdout",
     "output_type": "stream",
     "text": [
      "<class 'pandas.core.frame.DataFrame'>\n",
      "Index: 274 entries, 0 to 296\n",
      "Data columns (total 14 columns):\n",
      " #   Column     Non-Null Count  Dtype  \n",
      "---  ------     --------------  -----  \n",
      " 0   age        274 non-null    int64  \n",
      " 1   sex        274 non-null    int64  \n",
      " 2   cp         274 non-null    int64  \n",
      " 3   trestbps   274 non-null    int64  \n",
      " 4   chol       274 non-null    int64  \n",
      " 5   fbs        274 non-null    int64  \n",
      " 6   restecg    274 non-null    int64  \n",
      " 7   thalach    274 non-null    int64  \n",
      " 8   exang      274 non-null    int64  \n",
      " 9   oldpeak    274 non-null    float64\n",
      " 10  slope      274 non-null    int64  \n",
      " 11  ca         274 non-null    int64  \n",
      " 12  thal       274 non-null    int64  \n",
      " 13  condition  274 non-null    int64  \n",
      "dtypes: float64(1), int64(13)\n",
      "memory usage: 32.1 KB\n"
     ]
    }
   ],
   "source": [
    "#Revisión del tipo de datos y datos faltantes (no hay)\n",
    "\n",
    "df.info()"
   ]
  },
  {
   "cell_type": "markdown",
   "id": "b7e0be37-3f2b-483d-8b6b-b4daf59aca6b",
   "metadata": {},
   "source": [
    "## 3. Características más relevantes para entrenar el modelo "
   ]
  },
  {
   "cell_type": "markdown",
   "id": "c1f818d9-edb9-4c49-927f-bf4907161fae",
   "metadata": {},
   "source": [
    "Característica de interes:\n",
    "- Condition: si la persona tiene una enfermedad cardiaca o no (0 = no tiene efermedad - 1 = si tiene enfermedad)\n",
    "- Predecir si una persona posee una enfermedad cardiaca"
   ]
  },
  {
   "cell_type": "code",
   "execution_count": 85,
   "id": "f6f83c17-9074-4329-8535-0ae895edb581",
   "metadata": {},
   "outputs": [
    {
     "data": {
      "text/plain": [
       "condition\n",
       "0    151\n",
       "1    123\n",
       "Name: count, dtype: int64"
      ]
     },
     "execution_count": 85,
     "metadata": {},
     "output_type": "execute_result"
    }
   ],
   "source": [
    "# Total de personas con enfermedades cardiacas\n",
    "\n",
    "df['condition'].value_counts()"
   ]
  },
  {
   "cell_type": "code",
   "execution_count": 86,
   "id": "db7c7bd1-bc62-4cae-b128-6e86435cc846",
   "metadata": {},
   "outputs": [
    {
     "data": {
      "text/html": [
       "<div>\n",
       "<style scoped>\n",
       "    .dataframe tbody tr th:only-of-type {\n",
       "        vertical-align: middle;\n",
       "    }\n",
       "\n",
       "    .dataframe tbody tr th {\n",
       "        vertical-align: top;\n",
       "    }\n",
       "\n",
       "    .dataframe thead th {\n",
       "        text-align: right;\n",
       "    }\n",
       "</style>\n",
       "<table border=\"1\" class=\"dataframe\">\n",
       "  <thead>\n",
       "    <tr style=\"text-align: right;\">\n",
       "      <th></th>\n",
       "      <th>condition</th>\n",
       "    </tr>\n",
       "  </thead>\n",
       "  <tbody>\n",
       "    <tr>\n",
       "      <th>0</th>\n",
       "      <td>0</td>\n",
       "    </tr>\n",
       "    <tr>\n",
       "      <th>1</th>\n",
       "      <td>0</td>\n",
       "    </tr>\n",
       "    <tr>\n",
       "      <th>2</th>\n",
       "      <td>0</td>\n",
       "    </tr>\n",
       "    <tr>\n",
       "      <th>3</th>\n",
       "      <td>1</td>\n",
       "    </tr>\n",
       "    <tr>\n",
       "      <th>4</th>\n",
       "      <td>0</td>\n",
       "    </tr>\n",
       "    <tr>\n",
       "      <th>6</th>\n",
       "      <td>0</td>\n",
       "    </tr>\n",
       "    <tr>\n",
       "      <th>7</th>\n",
       "      <td>1</td>\n",
       "    </tr>\n",
       "    <tr>\n",
       "      <th>8</th>\n",
       "      <td>0</td>\n",
       "    </tr>\n",
       "    <tr>\n",
       "      <th>11</th>\n",
       "      <td>1</td>\n",
       "    </tr>\n",
       "    <tr>\n",
       "      <th>12</th>\n",
       "      <td>1</td>\n",
       "    </tr>\n",
       "  </tbody>\n",
       "</table>\n",
       "</div>"
      ],
      "text/plain": [
       "    condition\n",
       "0           0\n",
       "1           0\n",
       "2           0\n",
       "3           1\n",
       "4           0\n",
       "6           0\n",
       "7           1\n",
       "8           0\n",
       "11          1\n",
       "12          1"
      ]
     },
     "execution_count": 86,
     "metadata": {},
     "output_type": "execute_result"
    }
   ],
   "source": [
    "df[['condition']].head(10)"
   ]
  },
  {
   "cell_type": "markdown",
   "id": "a8cb5b0e-a417-4da8-bf23-b6395266b241",
   "metadata": {},
   "source": [
    "## 4. Dividir el dataset en Train y Test para evaluar correctamente el modelo"
   ]
  },
  {
   "cell_type": "code",
   "execution_count": 89,
   "id": "48550b6f-ad12-4108-aeeb-71a6063ab663",
   "metadata": {},
   "outputs": [],
   "source": [
    "X = df.drop('condition',axis=1) \n",
    "Y = df['condition'] \n",
    "\n",
    "X_train, X_test, Y_train, Y_test = train_test_split(X, Y, test_size=0.20, stratify=Y, random_state= 0)\n"
   ]
  },
  {
   "cell_type": "code",
   "execution_count": 90,
   "id": "d1eb3ebc-c276-4435-8c9f-036ab0dcc65f",
   "metadata": {},
   "outputs": [
    {
     "name": "stdout",
     "output_type": "stream",
     "text": [
      "     age  sex  cp  trestbps  chol  fbs  restecg  thalach  exang  oldpeak  \\\n",
      "215   58    0   3       100   248    0        2      122      0      1.0   \n",
      "6     63    1   0       145   233    1        2      150      0      2.3   \n",
      "281   44    1   3       110   197    0        2      177      0      0.0   \n",
      "87    64    1   2       140   335    0        0      158      0      0.0   \n",
      "139   44    1   2       130   233    0        0      179      1      0.4   \n",
      "..   ...  ...  ..       ...   ...  ...      ...      ...    ...      ...   \n",
      "86    64    1   2       125   309    0        0      131      1      1.8   \n",
      "8     60    0   0       150   240    0        0      171      0      0.9   \n",
      "22    34    1   0       118   182    0        2      174      0      0.0   \n",
      "50    49    0   1       134   271    0        0      162      0      0.0   \n",
      "177   64    1   3       128   263    0        0      105      1      0.2   \n",
      "\n",
      "     slope  ca  thal  \n",
      "215      1   0     0  \n",
      "6        2   0     1  \n",
      "281      0   1     0  \n",
      "87       0   0     0  \n",
      "139      0   0     0  \n",
      "..     ...  ..   ...  \n",
      "86       1   0     2  \n",
      "8        0   0     0  \n",
      "22       0   0     0  \n",
      "50       1   0     0  \n",
      "177      1   1     2  \n",
      "\n",
      "[219 rows x 13 columns]\n"
     ]
    }
   ],
   "source": [
    "print (X_train)"
   ]
  },
  {
   "cell_type": "code",
   "execution_count": 91,
   "id": "8b265ddd-1d14-4100-b000-ea322d7fc8d2",
   "metadata": {},
   "outputs": [
    {
     "name": "stdout",
     "output_type": "stream",
     "text": [
      "215    0\n",
      "6      0\n",
      "281    1\n",
      "87     1\n",
      "139    0\n",
      "      ..\n",
      "86     1\n",
      "8      0\n",
      "22     0\n",
      "50     0\n",
      "177    0\n",
      "Name: condition, Length: 219, dtype: int64\n"
     ]
    }
   ],
   "source": [
    "print (Y_train)"
   ]
  },
  {
   "cell_type": "markdown",
   "id": "b41d10f4-738c-415b-99bb-754a73b7a71d",
   "metadata": {},
   "source": [
    "## 5. Entrenar el modelo"
   ]
  },
  {
   "cell_type": "code",
   "execution_count": 93,
   "id": "dcc6d4d1-d5fb-4c73-bb51-2be65a9fda60",
   "metadata": {},
   "outputs": [],
   "source": [
    "# modelo de regresión logística \n",
    "\n",
    "modelo_regresion = LogisticRegression(solver = \"liblinear\") \n",
    "modelo_regresion.fit (X_train , Y_train)   \n",
    "\n",
    "Prediccion = modelo_regresion.predict(X_test) \n"
   ]
  },
  {
   "cell_type": "code",
   "execution_count": 94,
   "id": "89bb56fd-bcaf-457f-856b-dcc03e1bae50",
   "metadata": {},
   "outputs": [
    {
     "name": "stdout",
     "output_type": "stream",
     "text": [
      "252    1\n",
      "106    1\n",
      "107    0\n",
      "273    1\n",
      "91     1\n",
      "30     0\n",
      "37     0\n",
      "261    0\n",
      "228    1\n",
      "118    0\n",
      "203    1\n",
      "207    0\n",
      "114    0\n",
      "126    1\n",
      "104    0\n",
      "169    0\n",
      "276    0\n",
      "74     1\n",
      "18     1\n",
      "198    1\n",
      "283    1\n",
      "112    0\n",
      "123    0\n",
      "250    1\n",
      "165    0\n",
      "233    0\n",
      "193    1\n",
      "187    1\n",
      "239    1\n",
      "41     0\n",
      "82     0\n",
      "220    1\n",
      "214    1\n",
      "272    0\n",
      "124    0\n",
      "46     0\n",
      "80     1\n",
      "57     0\n",
      "99     0\n",
      "65     0\n",
      "67     0\n",
      "133    1\n",
      "140    0\n",
      "204    1\n",
      "116    0\n",
      "144    0\n",
      "271    0\n",
      "96     1\n",
      "54     0\n",
      "103    1\n",
      "285    0\n",
      "16     0\n",
      "222    1\n",
      "296    1\n",
      "34     1\n",
      "Name: condition, dtype: int64\n"
     ]
    }
   ],
   "source": [
    "print (Y_test)"
   ]
  },
  {
   "cell_type": "code",
   "execution_count": 95,
   "id": "34472f9a-e324-4d44-9824-e4d68431a079",
   "metadata": {},
   "outputs": [
    {
     "name": "stdout",
     "output_type": "stream",
     "text": [
      "[1 1 1 1 1 0 0 0 1 0 1 0 0 1 0 1 0 1 0 1 1 0 1 1 0 0 1 1 1 0 0 1 1 0 0 0 1\n",
      " 0 1 0 0 0 0 1 0 0 0 0 0 1 0 0 1 1 0]\n"
     ]
    }
   ],
   "source": [
    "print (Prediccion)"
   ]
  },
  {
   "cell_type": "markdown",
   "id": "25c1ba72-cb7c-4b70-ad9f-93aaaf1294e4",
   "metadata": {},
   "source": [
    "## 6. Evaluar el desempeño del modelo en el conjunto de Test con métricas como precisión, recall, F1-score, etc"
   ]
  },
  {
   "cell_type": "code",
   "execution_count": 96,
   "id": "f87071fe-fca8-438f-ad01-ce60bf3bd987",
   "metadata": {},
   "outputs": [
    {
     "name": "stdout",
     "output_type": "stream",
     "text": [
      "              precision    recall  f1-score   support\n",
      "\n",
      "           0       0.87      0.87      0.87        30\n",
      "           1       0.84      0.84      0.84        25\n",
      "\n",
      "    accuracy                           0.85        55\n",
      "   macro avg       0.85      0.85      0.85        55\n",
      "weighted avg       0.85      0.85      0.85        55\n",
      "\n"
     ]
    }
   ],
   "source": [
    "# Desempeño del modelo de regresión\n",
    "\n",
    "print(classification_report(Y_test,Prediccion))"
   ]
  },
  {
   "cell_type": "markdown",
   "id": "783564a6-322a-4673-a8a0-5a1e71ba7f6c",
   "metadata": {},
   "source": [
    "## 7. Realizar las diferentes gráficas que permitan visualizar los resultados del modelo"
   ]
  },
  {
   "cell_type": "code",
   "execution_count": 100,
   "id": "6c094bef-6b89-4411-9fc0-a534ab35d4fd",
   "metadata": {},
   "outputs": [
    {
     "data": {
      "text/plain": [
       "<sklearn.metrics._plot.confusion_matrix.ConfusionMatrixDisplay at 0x2460ef974d0>"
      ]
     },
     "execution_count": 100,
     "metadata": {},
     "output_type": "execute_result"
    },
    {
     "data": {
      "image/png": "[encoded data removed]",
      "text/plain": [
       "<Figure size 640x480 with 2 Axes>"
      ]
     },
     "metadata": {},
     "output_type": "display_data"
    }
   ],
   "source": [
    "#Matrix de Confusión del modelo\n",
    "\n",
    "cm=confusion_matrix(Y_test,Prediccion)\n",
    "disp=metrics.ConfusionMatrixDisplay(confusion_matrix=cm)\n",
    "disp.plot()"
   ]
  },
  {
   "cell_type": "code",
   "execution_count": 101,
   "id": "31d538a7-a662-4936-8331-c943f92c3ad5",
   "metadata": {},
   "outputs": [
    {
     "data": {
      "image/png": "[encoded data removed]",
      "text/plain": [
       "<Figure size 640x480 with 1 Axes>"
      ]
     },
     "metadata": {},
     "output_type": "display_data"
    }
   ],
   "source": [
    "# Curva de precisón del modelo\n",
    "\n",
    "from sklearn.metrics import RocCurveDisplay\n",
    "RocCurveDisplay.from_predictions(Y_test, Prediccion)\n",
    "plt.show()"
   ]
  },
  {
   "cell_type": "markdown",
   "id": "f9482850-08f5-46d5-9fe0-6375d9167201",
   "metadata": {},
   "source": [
    "## 8. Interpretar, analizar y documentar los resultados obtenidos"
   ]
  }
 ],
 "metadata": {
  "kernelspec": {
   "display_name": "Python 3 (ipykernel)",
   "language": "python",
   "name": "python3"
  },
  "language_info": {
   "codemirror_mode": {
    "name": "ipython",
    "version": 3
   },
   "file_extension": ".py",
   "mimetype": "text/x-python",
   "name": "python",
   "nbconvert_exporter": "python",
   "pygments_lexer": "ipython3",
   "version": "3.11.7"
  }
 },
 "nbformat": 4,
 "nbformat_minor": 5
}
